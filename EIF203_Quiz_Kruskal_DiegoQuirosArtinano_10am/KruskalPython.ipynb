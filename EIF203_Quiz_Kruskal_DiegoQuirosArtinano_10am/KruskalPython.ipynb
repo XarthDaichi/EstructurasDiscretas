{
 "cells": [
  {
   "cell_type": "code",
   "execution_count": 51,
   "metadata": {},
   "outputs": [
    {
     "name": "stdout",
     "output_type": "stream",
     "text": [
      "[['a', 'b', 10], ['c', 'e', 10], ['c', 'd', 20], ['a', 'd', 30]]\n",
      "\n",
      "[['c', 'd', 1], ['d', 'e', 2], ['f', 'g', 2], ['a', 'd', 3], ['a', 'b', 4], ['d', 'g', 4]]\n"
     ]
    }
   ],
   "source": [
    "import networkx as nx\n",
    "import matplotlib.pyplot as plt\n",
    "import numpy as np\n",
    "\n",
    "def kruskal(V, E):\n",
    "    \n",
    "    TGraph = nx.Graph()\n",
    "    TGraph.add_nodes_from(V)\n",
    "    \n",
    "    T = []\n",
    "    \n",
    "    def sort(E):\n",
    "        n = len(E)\n",
    "        for i in range(n):\n",
    "           for j in range(n-i):\n",
    "               a = E[j]\n",
    "               if a != E[-1]:\n",
    "                   b = E[j+1]\n",
    "                   if a[2] > b[2]:\n",
    "                       E[j] = b\n",
    "                       E[j+1] = a\n",
    "        return E\n",
    "\n",
    "    def find(i):\n",
    "        return nx.has_path(TGraph, i[0], i[1])\n",
    "\n",
    "    E = sort(E)\n",
    "    print\n",
    "    for i in E:\n",
    "        if not find(i):\n",
    "            T += [i]  \n",
    "            TGraph.add_edge(i[0], i[1])\n",
    "    return T\n",
    "                \n",
    "    \n",
    "    \n",
    "    \n",
    "\n",
    "\n",
    "\n",
    "\n",
    "\n",
    "a='a'\n",
    "b='b'\n",
    "c='c'\n",
    "d='d'\n",
    "e='e'\n",
    "f='f'\n",
    "g='g'\n",
    "\n",
    "V1 = [a,b,c,d,e]\n",
    "E1 = [[a,b,10], [a,e,100], [a,d,30], [b,c,50], [c,d,20], [c,e,10], [d,e,60]]\n",
    "\n",
    "print(kruskal(V1,E1))\n",
    "\n",
    "print()\n",
    "\n",
    "V2 = [a,b,c,d,e,f,g]\n",
    "E2 = [[a,b,4], [a,c,9], [a,d,3], [b,c, 5], [b,f, 7], [c,d, 1], [c,e,6], [d,e,2], [d,g,4], [e,f,8], [e,g,7], [f,g, 2]]\n",
    "print(kruskal(V2, E2))"
   ]
  }
 ],
 "metadata": {
  "language_info": {
   "name": "python"
  },
  "orig_nbformat": 4
 },
 "nbformat": 4,
 "nbformat_minor": 2
}

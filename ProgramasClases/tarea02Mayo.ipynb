{
 "cells": [
  {
   "cell_type": "markdown",
   "metadata": {},
   "source": [
    "1) Sea A el conjunto de personas registradas en Facebook (FB). Definimos la relación \"amigo\" en A así: p amigo q sii p aparece como amigo en el perfil de q. En cada caso, analice y justifique si se cumple o no:\n",
    "\n",
    "1. ¿amigo es reflexiva? Depende de como se defina aparece en el perfil, técnicamente uno mismo aparece en su propio perfil, entonces sí es reflexiva porque cada persona es amigo de si mismo. Si se define como aparecer en la lista de amigos entonces no no es reflexiva porque uno no aparece en la lista de amigos de uno mismo.\n",
    "2. ¿amigo es simétrica? Sí es simétrico porque si una persona aparece es amigo de otra persona en Facebook entonces viceversa sirve también.\n",
    "3. ¿amigo es transitiva? La relación no es transitiva porque si una persona a es amigo de una persona b y b es una amiga de una persona c no significa que a es amigo de c.\n",
    "4. ¿amigo es de equivalencia? No es una relación de equivalencia porque no es transitiva o reflexiva.\n",
    "Nota: tal vez haya que investigar un poco sobre FB"
   ]
  },
  {
   "cell_type": "markdown",
   "metadata": {},
   "source": [
    "2) Sea Q = N x (N - {0}) donde N son los naturales. Note que Q son pares ordenados de naturales.\n",
    "1. Dé 3 ejemplos de elementos distintos en Q: estos serian cualquier a y b (a, a), (a,b) y (0,a)\n",
    "2. Sobre Q defina R así: (x, y) R (a, b) sii x*b = y*a.\n",
    "$$ R = \\{ (a, b) \\land (x, y) / a, x \\in \\N \\land b, y \\in (\\N - \\{0\\}) \\land x*b = y*a \\} $$\n",
    "3. Pruebe que R es de equivalencia.\n",
    "- $\\\\ \\forall n \\land \\forall m ((n,m)R(n,m)) \\to n*m = n*m \\\\$\n",
    "$\\therefore$ R es reflexiva.\n",
    "\n",
    "- $\\forall a \\forall b \\forall x \\forall y ((a,b)R(x,y) \\to (x,y)R(a,b)) \\\\$\n",
    "$\\because (a,b)R(x,y) \\iff x*b = y*a \\land (x,y)R(a,b) \\iff a*y = b*x \\\\$\n",
    "$\\therefore$ R es simétrica.\n",
    "\n",
    "- $\\forall a \\forall b \\forall x \\forall y \\forall n \\forall m ((a,b)R(x,y) \\land (x,y)R(n,m)) \\\\$\n",
    "$\\implies x*b = y*a \\land y*n = x*m \\\\$\n",
    "$\\implies \\frac{x}{y} = \\frac{a}{b} \\land \\frac{n}{m} = \\frac{x}{y} \\\\$\n",
    "$\\implies \\frac{x}{y} = \\frac{a}{b} = \\frac{n}{m} \\\\$\n",
    "$\\implies \\frac{a}{b} = \\frac{n}{m} \\\\$\n",
    "$\\implies a*m = b*n \\\\$\n",
    "$\\therefore (a, b)R(n, m)$\n"
   ]
  },
  {
   "cell_type": "markdown",
   "metadata": {},
   "source": [
    "3) Haga un class Q que modele al Q del ejercicio previo. Ejemplos de uso que deben funcionar luego de implementar == basado en la equivalencia anterior\n",
    ">>> q12 = Q(1, 2)\n",
    ">>> print(q12)\n",
    "1/2\n",
    ">>> q24 = Q(2, 4)\n",
    ">>> print(q24)\n",
    "2/4\n",
    "print(q12 == q24)\n",
    "True"
   ]
  },
  {
   "cell_type": "code",
   "execution_count": 3,
   "metadata": {},
   "outputs": [
    {
     "name": "stdout",
     "output_type": "stream",
     "text": [
      "1/2\n",
      "2/4\n",
      "True\n"
     ]
    }
   ],
   "source": [
    "class Q:\n",
    "    def __init__(self, x:int, y:int):\n",
    "        self.x = x\n",
    "        self.y = y\n",
    "    def __repr__(self):\n",
    "        return f\"{self.x}/{self.y}\"\n",
    "    def __eq__(self, other):\n",
    "        if self is other:\n",
    "            return True\n",
    "        if isinstance(other, Q):\n",
    "            return self.x / self.y == other.x / other.y\n",
    "        return False\n",
    "    \n",
    "    \n",
    "\n",
    "q12 = Q(1,2)\n",
    "print(q12)\n",
    "q24 = Q(2,4)\n",
    "print(q24)\n",
    "print(q12 == q24)"
   ]
  }
 ],
 "metadata": {
  "interpreter": {
   "hash": "722fc858008cf1041b4dd6c954dc939cb4c526adc9905b7bfe040fcc021795bf"
  },
  "kernelspec": {
   "display_name": "Python 3.9.7 ('base')",
   "language": "python",
   "name": "python3"
  },
  "language_info": {
   "codemirror_mode": {
    "name": "ipython",
    "version": 3
   },
   "file_extension": ".py",
   "mimetype": "text/x-python",
   "name": "python",
   "nbconvert_exporter": "python",
   "pygments_lexer": "ipython3",
   "version": "3.9.7"
  },
  "orig_nbformat": 4
 },
 "nbformat": 4,
 "nbformat_minor": 2
}

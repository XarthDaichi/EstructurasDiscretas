{
 "cells": [
  {
   "cell_type": "markdown",
   "metadata": {},
   "source": [
    "1) Sea L = {0**n 1**n / 3 >= n >= 0} (se usa ** como exponente en este material)\n",
    "a) Escriba por extensión\n",
    "b) Escriba L como RS (que prueba que es regular)\n",
    "c) Escriba L como RE (Sugerencia no obligatoria: estudie la forma de RE P{n, m} donde P es una RE y n y m constantes enteras.\n",
    "d) Dibuje un DFA que reconozca L.\n",
    "2) Sea L números decimales con fracciones (lo visto en clase hoy) que ahora también permita la llamada notación científica (ver ejemplos abajo) V={\\d, \\., +, -, e, E}\n",
    "a) Escriba una RE que genere esos números. Pruébela en Python usando re.\n",
    "b) Dibuje un DFA que reconozca esos números\n",
    "Ejemplos de hileras en L\n",
    "666\n",
    "666.666\n",
    "+666\n",
    "+666.666\n",
    "+666.666\n",
    "++++---+666.666\n",
    "+666.666E-25 (esta es notación científica: +666.666 es la mantisa E es el indicador de exponente y -25 el exponente. El exponente siempre es entero puede ser signado o no.\n",
    ".666e10 (la E puede ser en mínúscula o mayuscula)\n",
    "666.E-10\n",
    "3) Baje y estudie el material del sitio 02-EIF203_Demo_book_I_2022_CLoria.zip\n",
    "El material lee un pequeño libro en español y extrae gerundios usando re. Los registra en diccionarios, dice en qué línea del libro aparecen. Luego imprime los resultados.\n",
    "Extienda/modifique para que encuentre participios (que se asumen son palabras que terminan en ado, ido, to o cho y sus respectivos plurales (es solo una aproximación, puede fallar en muchos casos (falsos positivos): por ejemplo \"mucho\" no es un participio ni \"prado\").\n",
    "El material ilustra entre otras cosas grupo de captura:\n",
    "Cuando se pone una parte de una re entre paréntesis esa parte se le dice grupo de captura y se pueden recuperar las partes que pegaron en el texto con ellas. Se numeran de izquiera a derecha de adentro hacia afuera y se recuperan con el número que les toca:\n",
    "Ejemplo\n",
    "import re\n",
    "texto = 'el número de la lotería es el 66 con la serie 666, para 666666 millones de colones'\n",
    "pat = '(\\d+)'\n",
    "re.finditer(pat, texto)\n",
    "iterador_soluciones = re.finditer(pat, texto)\n",
    "for m in iterador_soluciones:\n",
    "    print(m.group(1))\n",
    "La re pat tiene un grupo de captura (sería el número 1). re.finditer crea un iterador que camina por el texto haciendo match  la re y capturando números en grupos de cpatura. La salida de correr ese código es:\n",
    "66\n",
    "666\n",
    "666666"
   ]
  },
  {
   "cell_type": "code",
   "execution_count": null,
   "metadata": {},
   "outputs": [],
   "source": []
  }
 ],
 "metadata": {
  "language_info": {
   "name": "python"
  },
  "orig_nbformat": 4
 },
 "nbformat": 4,
 "nbformat_minor": 2
}

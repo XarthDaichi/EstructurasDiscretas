{
 "cells": [
  {
   "cell_type": "markdown",
   "metadata": {},
   "source": [
    "Se entrega un zip en el sitio (Practica_BinaryTree_I)\n",
    "Implementar el método print_inverse_polish(tree) en src\\btree.py luego de estudiar el modelo que se le entrega. El método debe imprimir la notación polaca inversa del BTree tree. No lo googlee; hágalo por Ud. mismo(a). Debe seguir el modelo dado como base. Use el test case que le entrega. Haga uno propio test_2 más complejo.\n",
    "\n",
    "El material incluye un .png que ilustra cómo está implementado un BT (Btree). La idea es usar una clase BNode que representa un nodo del árbol que tiene campos (atributos) data, left:BNode y right:BNode. Siendo data cualquier objeto y left y right los BNode hijos izquierdo y derechos, respectivamente.\n",
    "Un BTree tiene un campo __header (accesible a través del método root) que está en None si el árbol está vacío. Caso contrario apunta a un BNode que es la raíz del árbol (ver imagen en el zip). Todo el trabajo de BTree se delega en BNode (ver por ejemplo, método height, que calcula la altura del árbol. Note que se delega en el método height de BNode. "
   ]
  },
  {
   "cell_type": "code",
   "execution_count": null,
   "metadata": {},
   "outputs": [],
   "source": []
  }
 ],
 "metadata": {
  "language_info": {
   "name": "python"
  },
  "orig_nbformat": 4
 },
 "nbformat": 4,
 "nbformat_minor": 2
}

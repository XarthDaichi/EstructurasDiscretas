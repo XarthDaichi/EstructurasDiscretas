{
 "cells": [
  {
   "cell_type": "code",
   "execution_count": 1,
   "metadata": {},
   "outputs": [
    {
     "name": "stdout",
     "output_type": "stream",
     "text": [
      "\n",
      "\n",
      " {'Alajuela': {}, 'San Jose': {}, 'Limon': {}} \n",
      "\n",
      "\n",
      "\n",
      "\n",
      " {'Alajuela': {'km': 20}, 'San Jose': {}, 'Limon': {}} \n",
      "\n",
      "\n",
      "\n",
      "\n",
      " {'Guanacaste': {}, 'Heredia': {'km': 20}, 'San Jose': {}, 'Puntarenas': {}} \n",
      "\n",
      "\n",
      "Guanacaste\n",
      "Puntarenas\n",
      "Alajuela\n",
      "Heredia\n",
      "San Jose\n",
      "Limon\n",
      "Cartago\n",
      "\n",
      "Guanacaste->['Puntarenas', 'Alajuela']\n",
      "Puntarenas->['Guanacaste', 'Alajuela', 'San Jose', 'Limon']\n",
      "Alajuela->['Guanacaste', 'Heredia', 'San Jose', 'Puntarenas']\n",
      "Heredia->['Alajuela', 'San Jose', 'Limon']\n",
      "San Jose->['Alajuela', 'Heredia', 'Puntarenas', 'Cartago', 'Limon']\n",
      "Limon->['Heredia', 'San Jose', 'Puntarenas', 'Cartago']\n",
      "Cartago->['San Jose', 'Limon']\n",
      "\n",
      "Guanacaste 2\n",
      "Puntarenas 4\n",
      "Alajuela 4\n",
      "Heredia 3\n",
      "San Jose 5\n",
      "Limon 4\n",
      "Cartago 2\n",
      "\n"
     ]
    }
   ],
   "source": [
    "import networkx as nx\n",
    "\n",
    "A = 'Alajuela'\n",
    "H = 'Heredia'\n",
    "SJ = 'San Jose'\n",
    "G = 'Guanacaste'\n",
    "P = 'Puntarenas'\n",
    "C = 'Cartago'\n",
    "L = 'Limon'\n",
    "\n",
    "V = [A, H, SJ, C, P, L, G]\n",
    "E = [(G,P), (G,A), (A,H), (A, SJ), (A, P), (H, SJ), (H, L), (SJ, P), (SJ, C), (SJ, L), (P, L), (C, L)]\n",
    "\n",
    "GCR = nx.Graph()\n",
    "\n",
    "GCR.add_edges_from(E)\n",
    "\n",
    "print('\\n\\n',GCR[H],'\\n\\n')\n",
    "\n",
    "GCR[H][A]['km'] = 20\n",
    "\n",
    "print('\\n\\n',GCR[H],'\\n\\n')\n",
    "\n",
    "print('\\n\\n',GCR[A],'\\n\\n')\n",
    "\n",
    "for node in GCR.nodes:\n",
    "    print(node)\n",
    "print()\n",
    "\n",
    "for node in GCR.nodes:\n",
    "    print(f\"{node}->{list(GCR.neighbors(node))}\")\n",
    "print()\n",
    "\n",
    "for node in GCR.nodes:\n",
    "    print(node, GCR.degree(node))\n",
    "print()"
   ]
  }
 ],
 "metadata": {
  "interpreter": {
   "hash": "722fc858008cf1041b4dd6c954dc939cb4c526adc9905b7bfe040fcc021795bf"
  },
  "kernelspec": {
   "display_name": "Python 3.9.7 ('base')",
   "language": "python",
   "name": "python3"
  },
  "language_info": {
   "codemirror_mode": {
    "name": "ipython",
    "version": 3
   },
   "file_extension": ".py",
   "mimetype": "text/x-python",
   "name": "python",
   "nbconvert_exporter": "python",
   "pygments_lexer": "ipython3",
   "version": "3.9.7"
  },
  "orig_nbformat": 4
 },
 "nbformat": 4,
 "nbformat_minor": 2
}

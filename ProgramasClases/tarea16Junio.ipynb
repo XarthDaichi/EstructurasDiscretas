{
 "cells": [
  {
   "cell_type": "markdown",
   "metadata": {},
   "source": [
    "a) (SR)T = S(RT) \n",
    "\n",
    "b) S(R U T) = SR U ST (U es unión de conjuntos)\n",
    "\n",
    "c) {epsilon}S = S \n",
    "\n",
    "2) Sea S un conjunto cualquiera. ¿Cuánto sería S**? Justifique su respuesta formalmente\n",
    "\n",
    "3) Escriba en Python powcat(S:Set[str], n:int) que calcule S**n (concatenación del set S n veces. Use un esquema DyC. Asuma que n>= 0."
   ]
  },
  {
   "cell_type": "code",
   "execution_count": null,
   "metadata": {},
   "outputs": [],
   "source": []
  }
 ],
 "metadata": {
  "language_info": {
   "name": "python"
  },
  "orig_nbformat": 4
 },
 "nbformat": 4,
 "nbformat_minor": 2
}

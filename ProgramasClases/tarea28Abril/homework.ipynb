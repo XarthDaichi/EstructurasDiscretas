{
 "cells": [
  {
   "cell_type": "code",
   "execution_count": null,
   "metadata": {},
   "outputs": [],
   "source": [
    "def hanoi(n, A='A', B='B', C='C'):\n",
    "    if n == 0:\n",
    "        print(f\"No hay fichas que mover\")\n",
    "        return \n",
    "    if n == 1:\n",
    "        print(f\"Mueva de {A} a {C}\") # moviendo el unico disco en A hasta C\n",
    "        return\n",
    "    hanoi(n-1, A, C, B)          # moviendo n-1 discos de A hasta B\n",
    "    print(f\"Mueva de {A} a {C}\") # moviendo el unico disco de A a C\n",
    "    hanoi(n-1, B, A, C)          # moviendo n -1 discos de B hasta C"
   ]
  },
  {
   "cell_type": "code",
   "execution_count": null,
   "metadata": {},
   "outputs": [],
   "source": [
    "def merge(a:'list[int]', b:'list[int]') -> 'list[int]': # que haga el merge de las dos listas, ordenadas, asuma de menor a mayor a y b\n",
    "    newList = []\n",
    "    posA = 0;\n",
    "    posB = 0;\n",
    "    while posA < len(a) and posB < len(b):\n",
    "        if a[posA] < b[posB]:\n",
    "            newList.append(a[posA])\n",
    "            posA += 1\n",
    "        else:\n",
    "            newList.append(b[posB])\n",
    "            posB += 1\n",
    "    while posA < len(a):\n",
    "        newList.append(a[posA])\n",
    "        posA += 1\n",
    "    while posB < len(b):\n",
    "        newList.append(b[posB])\n",
    "        posB += 1\n",
    "    return newList\n",
    "     \n",
    "a = [1,3,5,7,9]\n",
    "b = [0,2,4,6,8]\n",
    "c = list(range(10))\n",
    "d = list(range(20))\n",
    "\n",
    "print(merge(a,b))\n",
    "print(merge(c,d))"
   ]
  },
  {
   "cell_type": "code",
   "execution_count": 1,
   "metadata": {},
   "outputs": [
    {
     "name": "stdout",
     "output_type": "stream",
     "text": [
      "[0, 1, 2, 3, 4, 5, 6, 7, 8, 9]\n",
      "[0, 0, 1, 1, 2, 2, 3, 3, 4, 4, 5, 5, 6, 6, 7, 7, 8, 8, 9, 9, 10, 11, 12, 13, 14, 15, 16, 17, 18, 19]\n"
     ]
    }
   ],
   "source": [
    "def merge(a:'list[int]', b:'list[int]') -> 'list[int]': # que haga el merge de las dos listas, ordenadas, asuma de menor a mayor a y b\n",
    "    newList = []\n",
    "    posA = 0;\n",
    "    posB = 0;\n",
    "    while posA < len(a) and posB < len(b):\n",
    "        if a[posA] < b[posB]:\n",
    "            newList.append(a[posA])\n",
    "            posA += 1\n",
    "        else:\n",
    "            newList.append(b[posB])\n",
    "            posB += 1\n",
    "    if posA < len(a):\n",
    "        newList += a[posA:]\n",
    "    if posB < len(b):\n",
    "        newList += b[posB:]\n",
    "    return newList\n",
    "\n",
    "a = [1,3,5,7,9]\n",
    "b = [0,2,4,6,8]\n",
    "c = list(range(10))\n",
    "d = list(range(20))\n",
    "\n",
    "print(merge(a,b))\n",
    "print(merge(c,d))"
   ]
  },
  {
   "cell_type": "markdown",
   "metadata": {},
   "source": [
    "Haga los 6 pasos del tiempo de corrida de su función anterior. Asuma comparaciones entre elementos de a y b como la operación de interés. Sugerencia: Use n = len(a) + len(b) como el tamaño de los datos. No asuma que a y b son del mismo tamaño, necesariamente.\n",
    "\n",
    "Paso 1:\n",
    "n = len(a) + len(b), a y b son listas\n",
    "\n",
    "Paso 2:\n",
    "Operaciones de interés = $T_{<}$\n",
    "\n",
    "Paso 3:\n",
    "n = 0, significa que len(a) y len(b) son 0\n",
    "$T_0 = 0$\n",
    "\n",
    "no estoy seguro como poner el $T_n$ porque el $T_n = 2*len(lista más pequeño)$ o $T_n = 2*len(lista)$ si las listas son iguales.\n",
    "\n",
    "Ergo $T_n = 2*n/2$ o $T_n = 2*n/2 -1$ aproximadamente\n",
    "\n",
    "Paso 5: $T_n ~ O(n/2)$"
   ]
  },
  {
   "cell_type": "code",
   "execution_count": 3,
   "metadata": {},
   "outputs": [
    {
     "data": {
      "image/png": "[encoded data removed]",
      "text/plain": [
       "<Figure size 432x288 with 1 Axes>"
      ]
     },
     "metadata": {},
     "output_type": "display_data"
    }
   ],
   "source": [
    "import matplotlib.pyplot  as plt\n",
    "import numpy as np\n",
    "\n",
    "# El sexto paso del análisis\n",
    "def merge_instrumentado(a:'list[int]', b:'list[int]') -> int:\n",
    "    operaciones = 0\n",
    "    newList = []\n",
    "    posA = 0;\n",
    "    posB = 0;\n",
    "    while posA < len(a) and posB < len(b):\n",
    "        operaciones += 1\n",
    "        if a[posA] < b[posB]:\n",
    "            newList.append(a[posA])\n",
    "            posA += 1\n",
    "        else:\n",
    "            newList.append(b[posB])\n",
    "            posB += 1\n",
    "    if posA < len(a):\n",
    "        newList += a[posA:]\n",
    "        operaciones += len(a) - posA\n",
    "    if posB < len(b):\n",
    "        newList += b[posB:]\n",
    "        operaciones += len(b) - posB\n",
    "    return operaciones\n",
    "\n",
    "def test_merge_instrumentado(start, end, inc):\n",
    "    graph = []\n",
    "    graph.append([])\n",
    "    graph.append([])\n",
    "    graph.append([])\n",
    "    for i in range(start, end, inc):\n",
    "        for j in range(i, end, inc):\n",
    "            a = list(range(i))\n",
    "            b = list(range(j))\n",
    "            graph[0].append(i+j)\n",
    "            graph[1].append(merge_instrumentado(a,b))\n",
    "    return graph\n",
    "            \n",
    "\n",
    "g = test_merge_instrumentado(10, 200, 10)\n",
    "g.append([])\n",
    "for i in range(len(g[0])):\n",
    "    g[2].append(g[0][i] - g[1][i])\n",
    "\n",
    "\n",
    "plt.plot(g[0], g[1], color=\"blue\", label=\"merge\") \n",
    "plt.legend()\n",
    "plt.xlabel('Time')\n",
    "plt.ylabel(\"N\")\n",
    "plt.title(\"Análisis de Tiempo de merge\")\n",
    "plt.show()"
   ]
  },
  {
   "cell_type": "code",
   "execution_count": null,
   "metadata": {},
   "outputs": [],
   "source": [
    "def mergesort(a:list[int]) -> list[int]:\n",
    "    def merge(a:list[int], b:list[int]) -> list[int]:\n",
    "        newList = []\n",
    "        if len(a) == 1 and len(b) == 0:\n",
    "            return [a[0]]\n",
    "        elif len(a) == 0 and len(b) == 1:\n",
    "            return [b[0]]\n",
    "        elif len(a) == 1 and len(b) == 1:\n",
    "            if a[0] < b[0]:\n",
    "                return [a[0],b[0]]\n",
    "        else:\n",
    "            return newList + merge(a[:len(a)//2], a[len(a)//2:]) + merge(b[:len(b)//2], b[len(b)//2:])\n",
    "    merge(a[:len(a)//2], a[len(a)//2:])\n",
    "\n",
    "a = [0,1,7,3,4,9,6,20,8,5]\n",
    "print(mergesort(a))\n",
    "\n",
    "# Este fue un intento fallido"
   ]
  },
  {
   "cell_type": "code",
   "execution_count": 1,
   "metadata": {},
   "outputs": [
    {
     "ename": "RecursionError",
     "evalue": "maximum recursion depth exceeded while calling a Python object",
     "output_type": "error",
     "traceback": [
      "\u001b[0;31m---------------------------------------------------------------------------\u001b[0m",
      "\u001b[0;31mRecursionError\u001b[0m                            Traceback (most recent call last)",
      "\u001b[0;32m/tmp/ipykernel_556/187799863.py\u001b[0m in \u001b[0;36m<module>\u001b[0;34m\u001b[0m\n\u001b[1;32m     27\u001b[0m \u001b[0;34m\u001b[0m\u001b[0m\n\u001b[1;32m     28\u001b[0m \u001b[0ma\u001b[0m \u001b[0;34m=\u001b[0m \u001b[0;34m[\u001b[0m\u001b[0;36m0\u001b[0m\u001b[0;34m,\u001b[0m\u001b[0;36m1\u001b[0m\u001b[0;34m,\u001b[0m\u001b[0;36m7\u001b[0m\u001b[0;34m,\u001b[0m\u001b[0;36m3\u001b[0m\u001b[0;34m,\u001b[0m\u001b[0;36m4\u001b[0m\u001b[0;34m,\u001b[0m\u001b[0;36m9\u001b[0m\u001b[0;34m,\u001b[0m\u001b[0;36m6\u001b[0m\u001b[0;34m,\u001b[0m\u001b[0;36m20\u001b[0m\u001b[0;34m,\u001b[0m\u001b[0;36m8\u001b[0m\u001b[0;34m,\u001b[0m\u001b[0;36m5\u001b[0m\u001b[0;34m]\u001b[0m\u001b[0;34m\u001b[0m\u001b[0;34m\u001b[0m\u001b[0m\n\u001b[0;32m---> 29\u001b[0;31m \u001b[0mprint\u001b[0m\u001b[0;34m(\u001b[0m\u001b[0mmergesort\u001b[0m\u001b[0;34m(\u001b[0m\u001b[0ma\u001b[0m\u001b[0;34m)\u001b[0m\u001b[0;34m)\u001b[0m\u001b[0;34m\u001b[0m\u001b[0;34m\u001b[0m\u001b[0m\n\u001b[0m\u001b[1;32m     30\u001b[0m \u001b[0;34m\u001b[0m\u001b[0m\n\u001b[1;32m     31\u001b[0m \u001b[0;31m# este fue un intento fallido\u001b[0m\u001b[0;34m\u001b[0m\u001b[0;34m\u001b[0m\u001b[0m\n",
      "\u001b[0;32m/tmp/ipykernel_556/187799863.py\u001b[0m in \u001b[0;36mmergesort\u001b[0;34m(a)\u001b[0m\n\u001b[1;32m     24\u001b[0m             \u001b[0mposB\u001b[0m \u001b[0;34m+=\u001b[0m \u001b[0;36m1\u001b[0m\u001b[0;34m\u001b[0m\u001b[0;34m\u001b[0m\u001b[0m\n\u001b[1;32m     25\u001b[0m         \u001b[0;32mreturn\u001b[0m \u001b[0mnewList\u001b[0m\u001b[0;34m\u001b[0m\u001b[0;34m\u001b[0m\u001b[0m\n\u001b[0;32m---> 26\u001b[0;31m     \u001b[0mmerge\u001b[0m\u001b[0;34m(\u001b[0m\u001b[0mmergesort\u001b[0m\u001b[0;34m(\u001b[0m\u001b[0ma\u001b[0m\u001b[0;34m[\u001b[0m\u001b[0;34m:\u001b[0m\u001b[0mlen\u001b[0m\u001b[0;34m(\u001b[0m\u001b[0ma\u001b[0m\u001b[0;34m)\u001b[0m\u001b[0;34m//\u001b[0m\u001b[0;36m2\u001b[0m\u001b[0;34m]\u001b[0m\u001b[0;34m)\u001b[0m\u001b[0;34m,\u001b[0m \u001b[0mmergesort\u001b[0m\u001b[0;34m(\u001b[0m\u001b[0ma\u001b[0m\u001b[0;34m[\u001b[0m\u001b[0mlen\u001b[0m\u001b[0;34m(\u001b[0m\u001b[0ma\u001b[0m\u001b[0;34m)\u001b[0m\u001b[0;34m//\u001b[0m\u001b[0;36m2\u001b[0m\u001b[0;34m:\u001b[0m\u001b[0;34m]\u001b[0m\u001b[0;34m)\u001b[0m\u001b[0;34m)\u001b[0m\u001b[0;34m\u001b[0m\u001b[0;34m\u001b[0m\u001b[0m\n\u001b[0m\u001b[1;32m     27\u001b[0m \u001b[0;34m\u001b[0m\u001b[0m\n\u001b[1;32m     28\u001b[0m \u001b[0ma\u001b[0m \u001b[0;34m=\u001b[0m \u001b[0;34m[\u001b[0m\u001b[0;36m0\u001b[0m\u001b[0;34m,\u001b[0m\u001b[0;36m1\u001b[0m\u001b[0;34m,\u001b[0m\u001b[0;36m7\u001b[0m\u001b[0;34m,\u001b[0m\u001b[0;36m3\u001b[0m\u001b[0;34m,\u001b[0m\u001b[0;36m4\u001b[0m\u001b[0;34m,\u001b[0m\u001b[0;36m9\u001b[0m\u001b[0;34m,\u001b[0m\u001b[0;36m6\u001b[0m\u001b[0;34m,\u001b[0m\u001b[0;36m20\u001b[0m\u001b[0;34m,\u001b[0m\u001b[0;36m8\u001b[0m\u001b[0;34m,\u001b[0m\u001b[0;36m5\u001b[0m\u001b[0;34m]\u001b[0m\u001b[0;34m\u001b[0m\u001b[0;34m\u001b[0m\u001b[0m\n",
      "... last 1 frames repeated, from the frame below ...\n",
      "\u001b[0;32m/tmp/ipykernel_556/187799863.py\u001b[0m in \u001b[0;36mmergesort\u001b[0;34m(a)\u001b[0m\n\u001b[1;32m     24\u001b[0m             \u001b[0mposB\u001b[0m \u001b[0;34m+=\u001b[0m \u001b[0;36m1\u001b[0m\u001b[0;34m\u001b[0m\u001b[0;34m\u001b[0m\u001b[0m\n\u001b[1;32m     25\u001b[0m         \u001b[0;32mreturn\u001b[0m \u001b[0mnewList\u001b[0m\u001b[0;34m\u001b[0m\u001b[0;34m\u001b[0m\u001b[0m\n\u001b[0;32m---> 26\u001b[0;31m     \u001b[0mmerge\u001b[0m\u001b[0;34m(\u001b[0m\u001b[0mmergesort\u001b[0m\u001b[0;34m(\u001b[0m\u001b[0ma\u001b[0m\u001b[0;34m[\u001b[0m\u001b[0;34m:\u001b[0m\u001b[0mlen\u001b[0m\u001b[0;34m(\u001b[0m\u001b[0ma\u001b[0m\u001b[0;34m)\u001b[0m\u001b[0;34m//\u001b[0m\u001b[0;36m2\u001b[0m\u001b[0;34m]\u001b[0m\u001b[0;34m)\u001b[0m\u001b[0;34m,\u001b[0m \u001b[0mmergesort\u001b[0m\u001b[0;34m(\u001b[0m\u001b[0ma\u001b[0m\u001b[0;34m[\u001b[0m\u001b[0mlen\u001b[0m\u001b[0;34m(\u001b[0m\u001b[0ma\u001b[0m\u001b[0;34m)\u001b[0m\u001b[0;34m//\u001b[0m\u001b[0;36m2\u001b[0m\u001b[0;34m:\u001b[0m\u001b[0;34m]\u001b[0m\u001b[0;34m)\u001b[0m\u001b[0;34m)\u001b[0m\u001b[0;34m\u001b[0m\u001b[0;34m\u001b[0m\u001b[0m\n\u001b[0m\u001b[1;32m     27\u001b[0m \u001b[0;34m\u001b[0m\u001b[0m\n\u001b[1;32m     28\u001b[0m \u001b[0ma\u001b[0m \u001b[0;34m=\u001b[0m \u001b[0;34m[\u001b[0m\u001b[0;36m0\u001b[0m\u001b[0;34m,\u001b[0m\u001b[0;36m1\u001b[0m\u001b[0;34m,\u001b[0m\u001b[0;36m7\u001b[0m\u001b[0;34m,\u001b[0m\u001b[0;36m3\u001b[0m\u001b[0;34m,\u001b[0m\u001b[0;36m4\u001b[0m\u001b[0;34m,\u001b[0m\u001b[0;36m9\u001b[0m\u001b[0;34m,\u001b[0m\u001b[0;36m6\u001b[0m\u001b[0;34m,\u001b[0m\u001b[0;36m20\u001b[0m\u001b[0;34m,\u001b[0m\u001b[0;36m8\u001b[0m\u001b[0;34m,\u001b[0m\u001b[0;36m5\u001b[0m\u001b[0;34m]\u001b[0m\u001b[0;34m\u001b[0m\u001b[0;34m\u001b[0m\u001b[0m\n",
      "\u001b[0;31mRecursionError\u001b[0m: maximum recursion depth exceeded while calling a Python object"
     ]
    }
   ],
   "source": [
    "# use su merge de 2) para escribir mergesort(a:list[int]) -> list[int] que implemente el merge sort descrito en clase.\n",
    "def mergesort(a:list[int]) -> list[int]:\n",
    "    def merge(a:list[int], b:list[int]) -> list[int]: # que haga el merge de las dos listas, ordenadas, asuma de menor a mayor a y b\n",
    "        newList = []\n",
    "        posA = 0\n",
    "        posB = 0\n",
    "        if len(a) == 1 and len(b) == 0:\n",
    "            return a\n",
    "        elif len(a) == 0 and len(b) == 1:\n",
    "            return b\n",
    "        \n",
    "        while posA < len(a) and posB < len(b):\n",
    "            if a[posA] < b[posB]:\n",
    "                newList.append(a[posA])\n",
    "                posA += 1\n",
    "            else:\n",
    "                newList.append(b[posB])\n",
    "                posB += 1\n",
    "        while posA < len(a):\n",
    "            newList.append(a[posA])\n",
    "            posA += 1\n",
    "        while posB < len(b):\n",
    "            newList.append(b[posB])\n",
    "            posB += 1\n",
    "        return merge(merge(a[:len(a)//2], a[len(a)//2:]), merge(b[:len(b)//2], b[len(b)//2:]))\n",
    "    merge(a[:len(a)//2], a[len(a)//2:])\n",
    "    \n",
    "a = [0,1,7,3,4,9,6,20,8,5]\n",
    "print(mergesort(a))\n",
    "\n",
    "# este fue un intento fallido"
   ]
  },
  {
   "cell_type": "code",
   "execution_count": 10,
   "metadata": {},
   "outputs": [
    {
     "name": "stdout",
     "output_type": "stream",
     "text": [
      "[0, 1, 3, 4, 5, 6, 7, 8, 9, 20]\n"
     ]
    }
   ],
   "source": [
    "def mergesort(a:list[int]) -> list[int]:\n",
    "    def merge(a:'list[int]', b:'list[int]') -> 'list[int]': # que haga el merge de las dos listas, ordenadas, asuma de menor a mayor a y b\n",
    "        newList = []\n",
    "        posA = 0;\n",
    "        posB = 0;\n",
    "        while posA < len(a) and posB < len(b):\n",
    "            if a[posA] < b[posB]:\n",
    "                newList.append(a[posA])\n",
    "                posA += 1\n",
    "            else:\n",
    "                newList.append(b[posB])\n",
    "                posB += 1\n",
    "        while posA < len(a):\n",
    "            newList.append(a[posA])\n",
    "            posA += 1\n",
    "        while posB < len(b):\n",
    "            newList.append(b[posB])\n",
    "            posB += 1\n",
    "        return newList\n",
    "    sorted = merge(a[:1], a[1:2])\n",
    "    for i in range(2, len(a)-1):\n",
    "        sorted = merge(sorted, a[i:i+1])\n",
    "    return merge(sorted, a[len(a)-1:])\n",
    "\n",
    "a = [0,1,7,3,4,9,6,20,8,5]\n",
    "print(mergesort(a))\n",
    "\n",
    "# intento mio que creo que es mas instertion sort que cualquier cosa\n",
    "        "
   ]
  },
  {
   "cell_type": "code",
   "execution_count": 24,
   "metadata": {},
   "outputs": [
    {
     "name": "stdout",
     "output_type": "stream",
     "text": [
      "[0, 1, 3, 4, 5, 6, 7, 8, 9, 20]\n"
     ]
    }
   ],
   "source": [
    "def mergesort(a:list[int]) -> list[int]:\n",
    "    if len(a) <= 1:\n",
    "        return a\n",
    "    return merge(mergesort(a[:len(a)//2]), mergesort(a[len(a)//2:]))\n",
    "\n",
    "def merge(a:'list[int]', b:'list[int]') -> 'list[int]': # que haga el merge de las dos listas, ordenadas, asuma de menor a mayor a y b\n",
    "    newList = []\n",
    "    posA = 0;\n",
    "    posB = 0;\n",
    "    while posA < len(a) and posB < len(b):\n",
    "        if a[posA] < b[posB]:\n",
    "            newList.append(a[posA])\n",
    "            posA += 1\n",
    "        else:\n",
    "            newList.append(b[posB])\n",
    "            posB += 1\n",
    "    while posA < len(a):\n",
    "        newList.append(a[posA])\n",
    "        posA += 1\n",
    "    while posB < len(b):\n",
    "        newList.append(b[posB])\n",
    "        posB += 1\n",
    "    return newList\n",
    "\n",
    "a = [0,1,7,3,4,9,6,20,8,5]\n",
    "print(mergesort(a))\n",
    "\n",
    "# Despues de ver solucion de google descubri que no estaba tan lejos de la respuesta"
   ]
  },
  {
   "cell_type": "code",
   "execution_count": 2,
   "metadata": {},
   "outputs": [
    {
     "name": "stdout",
     "output_type": "stream",
     "text": [
      "[0, 1, 3, 4, 5, 6, 7, 8, 9, 20]\n"
     ]
    }
   ],
   "source": [
    "def mergesort(a:list[int]) -> list[int]:\n",
    "    if len(a) <= 1:\n",
    "        return a\n",
    "    return merge(mergesort(a[:len(a)//2]), mergesort(a[len(a)//2:]))\n",
    "\n",
    "def merge(a:'list[int]', b:'list[int]') -> 'list[int]': # que haga el merge de las dos listas, ordenadas, asuma de menor a mayor a y b\n",
    "    newList = []\n",
    "    posA = 0;\n",
    "    posB = 0;\n",
    "    while posA < len(a) and posB < len(b):\n",
    "        if a[posA] < b[posB]:\n",
    "            newList.append(a[posA])\n",
    "            posA += 1\n",
    "        else:\n",
    "            newList.append(b[posB])\n",
    "            posB += 1\n",
    "    if posA < len(a):\n",
    "        newList += a[posA:]\n",
    "    if posB < len(b):\n",
    "        newList += b[posB:]\n",
    "    return newList\n",
    "\n",
    "a = [0,1,7,3,4,9,6,20,8,5]\n",
    "print(mergesort(a))"
   ]
  },
  {
   "cell_type": "code",
   "execution_count": 15,
   "metadata": {},
   "outputs": [
    {
     "name": "stdout",
     "output_type": "stream",
     "text": [
      "[0, 1, 3, 4, 5, 6, 7, 8, 9, 20]\n"
     ]
    }
   ],
   "source": [
    "def merge_sort(arr):\n",
    "    # The last array split\n",
    "    if len(arr) <= 1:\n",
    "        return arr\n",
    "    mid = len(arr) // 2\n",
    "    # Perform merge_sort recursively on both halves\n",
    "    left, right = merge_sort(arr[:mid]), merge_sort(arr[mid:])\n",
    "\n",
    "    # Merge each side together\n",
    "    return merge(left, right, arr.copy())\n",
    "\n",
    "\n",
    "def merge(left, right, merged):\n",
    "\n",
    "    left_cursor, right_cursor = 0, 0\n",
    "    while left_cursor < len(left) and right_cursor < len(right):\n",
    "      \n",
    "        # Sort each one and place into the result\n",
    "        if left[left_cursor] <= right[right_cursor]:\n",
    "            merged[left_cursor+right_cursor]=left[left_cursor]\n",
    "            left_cursor += 1\n",
    "        else:\n",
    "            merged[left_cursor + right_cursor] = right[right_cursor]\n",
    "            right_cursor += 1\n",
    "            \n",
    "    for left_cursor in range(left_cursor, len(left)):\n",
    "        merged[left_cursor + right_cursor] = left[left_cursor]\n",
    "        \n",
    "    for right_cursor in range(right_cursor, len(right)):\n",
    "        merged[left_cursor + right_cursor] = right[right_cursor]\n",
    "\n",
    "    return merged\n",
    "\n",
    "a = [0,1,7,3,4,9,6,20,8,5]\n",
    "print(merge_sort(a))"
   ]
  },
  {
   "cell_type": "code",
   "execution_count": 26,
   "metadata": {},
   "outputs": [
    {
     "name": "stdout",
     "output_type": "stream",
     "text": [
      "45\n"
     ]
    }
   ],
   "source": [
    "# Escriba sumDyC(a:list[int]) -> int que usando un enfoque DyC calcule la suma de los elementos de a. Use MT para determinar el O-grande de T_SumDyC(n). Indique al usar MT si es simple o general\n",
    "def sumDyC(a:list[int]) -> int:\n",
    "    if len(a) == 1:\n",
    "        return a[0]\n",
    "    return sumDyC(a[:len(a)//2]) + sumDyC(a[len(a)//2:])\n",
    "\n",
    "a = [1,2,3,4,5,6,7,8,9]\n",
    "print(sumDyC(a))"
   ]
  },
  {
   "cell_type": "markdown",
   "metadata": {},
   "source": [
    "Hay 2 llamadas recursivas y se divide por 2, entonces a y b son 2, no se le suma nada demás entonces solo $f_n = a*f_{n/2}$, lo cual es igual a un O-grande de $O(n^{log_b(a)}) = O(n^{log_2(2)}) = O(n)$"
   ]
  }
 ],
 "metadata": {
  "interpreter": {
   "hash": "722fc858008cf1041b4dd6c954dc939cb4c526adc9905b7bfe040fcc021795bf"
  },
  "kernelspec": {
   "display_name": "Python 3.9.7 ('base')",
   "language": "python",
   "name": "python3"
  },
  "language_info": {
   "codemirror_mode": {
    "name": "ipython",
    "version": 3
   },
   "file_extension": ".py",
   "mimetype": "text/x-python",
   "name": "python",
   "nbconvert_exporter": "python",
   "pygments_lexer": "ipython3",
   "version": "3.9.7"
  },
  "orig_nbformat": 4
 },
 "nbformat": 4,
 "nbformat_minor": 2
}

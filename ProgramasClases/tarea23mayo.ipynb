{
 "cells": [
  {
   "cell_type": "markdown",
   "metadata": {},
   "source": [
    "1) Usando HH con una estrategia alfabética encuentre un ciclo de Euler para el grafo usado en clase hoy"
   ]
  },
  {
   "cell_type": "markdown",
   "metadata": {},
   "source": [
    "2) Esriba en Python isEulerian(G) que reciba un grafo de networkx y determine si G admite un ciclo de Euler usando el teorema de Euler.\n",
    "Nota: networkx tiene algoritmos para manejar grafos (semi)eulerianos.\n",
    "https://networkx.org/documentation/stable/reference/algorithms/euler.html\n",
    "Pero escriba la versión de is_eulerian suya para practicar. Para chequear conectividad no tenemos material del curso por ahora, entonces puede usar https://networkx.org/documentation/networkx-1.10/reference/generated/networkx.algorithms.components.connected.is_connected.html\n",
    "Pruebe su algoritmo con el grafo usado en clase hoy."
   ]
  },
  {
   "cell_type": "markdown",
   "metadata": {},
   "source": [
    "3) Usemos la definición de que un árbol libre T es un grafo  tal que entre dos vértices cualesquiera existe uno y sólo un camino que los comunica.\n",
    "Con esa definición sólamente como hipótesis, pruebe esta afirmación: Si T es árbol libre entonces T no puede tener ciclos."
   ]
  },
  {
   "cell_type": "code",
   "execution_count": null,
   "metadata": {},
   "outputs": [],
   "source": []
  }
 ],
 "metadata": {
  "language_info": {
   "name": "python"
  },
  "orig_nbformat": 4
 },
 "nbformat": 4,
 "nbformat_minor": 2
}

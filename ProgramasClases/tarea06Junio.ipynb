{
 "cells": [
  {
   "cell_type": "markdown",
   "metadata": {},
   "source": [
    "0) Pruebe que todo Kn tiene un ciclo de Hamilton para todo n >= 3.\n",
    "\n",
    "1) Prepare un pequeña investigación sobre el algorimto de Kruskal (para MST) pero que le permita si se le pide explicarlo y poner un ejemplo. (Para la semana entrante.) Use los ejemplos 2) y 3 siguientes para demostrar que entiende el algoritmo.\n",
    "\n",
    "2) Termine el ejercicio de MST visto en clase usando el método PT (Prim Tree)\n",
    "\n",
    "3) Encuentre un MST usando PT para el grafo de la pregunta 6) de la práctica para segundo examen parcial.\n",
    "\n",
    "4) Dibuje paso a paso un BST (árbol binario de búsqueda) a partir de leer la lista [10,4,7,5,9,13,15,11] de izquierda a derecha. Indique la altura h después de cada inserción"
   ]
  },
  {
   "cell_type": "code",
   "execution_count": null,
   "metadata": {},
   "outputs": [],
   "source": []
  }
 ],
 "metadata": {
  "language_info": {
   "name": "python"
  },
  "orig_nbformat": 4
 },
 "nbformat": 4,
 "nbformat_minor": 2
}

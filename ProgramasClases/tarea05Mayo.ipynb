{
 "cells": [
  {
   "cell_type": "markdown",
   "metadata": {},
   "source": [
    "0) ¿Cómo se vería la matriz M_R de una relación simétrica R?\n",
    "\n",
    "$$\n",
    "\\begin{pmatrix}\n",
    "0 & 1 & 0 \\\\\n",
    "1 & 0 & 1 \\\\\n",
    "0 & 1 & 0\n",
    "\\end{pmatrix}\n",
    "$$"
   ]
  },
  {
   "cell_type": "markdown",
   "metadata": {},
   "source": [
    "1) Como antes, sea $Q = \\N \\times (\\N - \\{0\\})$ donde $\\N$ son los naturales.\n",
    "\n",
    "1. Sobre Q defina LE así: (x, y) LE (a, b) sii x*b <= y*a (<= es el operador menor o igual)\n",
    "\n",
    "2. Pruebe que LE es un orden parcial.\n",
    "\n",
    "For a $\\in \\N \\land$ b $\\in (\\N - \\{0\\})$ (a,b)LE(a,b) \n",
    "\n",
    "$\\implies$ a*b <= a*b\n",
    "\n",
    "$\\therefore$ LE es reflexiva.\n",
    "\n",
    "For a, c $\\in \\N \\land$ b, d $\\in (\\N - \\{0\\})$ (a,b)LE(c,d) $\\land$ (c,d)LE(a,b)\n",
    "\n",
    "$\\implies a*d <= b*c \\land b*c <= a*d$\n",
    "\n",
    "$\\implies$ $\\frac{a}{b} <= \\frac{c}{d} \\land \\frac{c}{d} <= \\frac{a}{b} \\iff \\frac{a}{b} = \\frac{c}{d}$\n",
    "\n",
    "$\\therefore$ LE es antisimétrica.\n",
    "\n",
    "For a,c,e $\\in \\N \\land$ b,d,f $\\in (\\N - \\{0\\})$ (a,b)LE(c,d) $\\land$ (c,d)LE(e,f)\n",
    "\n",
    "$\\implies a*d <= b*c \\land c*f <= d*e$\n",
    "\n",
    "$\\implies \\frac{a}{b} <= \\frac{c}{d} \\land \\frac{c}{d} <= \\frac{e}{f} \\iff \\frac{a}{b} <= \\frac{e}{f}$\n",
    "\n",
    "$\\therefore$ LE es transitiva.\n",
    "\n",
    "$\\therefore$ LE es orden parcial\n",
    "\n",
    "Orden Parcial: Reflexiva, antisimétrica, transitiva\n",
    "\n",
    "Reflexiva: $\\forall x$ xRx\n",
    "\n",
    "Antisimétrica: $\\forall x \\forall y$ xRy $\\land$ yRx $\\to$ x = y\n",
    "\n",
    "Transitiva: $\\forall x \\forall y \\forall z$ xRy $\\land$ yRz $\\to$ xRz"
   ]
  },
  {
   "cell_type": "markdown",
   "metadata": {},
   "source": [
    "2) Actualice su class Q del ejercicio del 2/5 para que maneje <=. \n",
    "\n",
    "Nota: En este link (operator) encuentra información los respectivos dunder de los operadores de Python. Por ejemplo __le__ es el dunder de <=.\n",
    "\n",
    "Nota: Una alternativa más profesional de la librería de Python (en vez de Q) es fractions. Q es para practicar nada más.\n",
    "\n",
    "Ejemplos de nuevo uso que debe ahora funcionar en Q\n",
    ">>> q12 = Q(1,2)\n",
    "\n",
    ">>> print(q12)\n",
    "\n",
    "1/2\n",
    "\n",
    ">>> q13 = Q(1, 3)\n",
    "\n",
    ">>> print(q13)\n",
    "\n",
    "1/3\n",
    "\n",
    ">>> print(q12 <= q12)\n",
    "\n",
    "True\n",
    "\n",
    ">>> print(q13 <= q12)\n",
    "\n",
    "True\n",
    "\n",
    ">>> print(q12 <= q13)\n",
    "\n",
    "False\n",
    "\n",
    "# Adicional (recomendado)\n",
    "\n",
    ">>> print(q12 + 666 >= q12 + 555)\n",
    "\n",
    "True\n",
    "\n",
    ">>> print(q12 >= 0.25)\n",
    "\n",
    "True"
   ]
  },
  {
   "cell_type": "code",
   "execution_count": 5,
   "metadata": {},
   "outputs": [
    {
     "name": "stdout",
     "output_type": "stream",
     "text": [
      "1/2\n",
      "2/4\n",
      "True\n",
      "1/3\n",
      "True\n",
      "True\n",
      "False\n",
      "True\n",
      "True\n"
     ]
    }
   ],
   "source": [
    "class Q:\n",
    "    def __init__(self, x:int, y:int):\n",
    "        self.x = x\n",
    "        self.y = y\n",
    "    def __repr__(self):\n",
    "        return f\"{self.x}/{self.y}\"\n",
    "    def __eq__(self, other):\n",
    "        if self is other:\n",
    "            return True\n",
    "        if isinstance(other, Q):\n",
    "            return self.x / self.y == other.x / other.y\n",
    "        return False\n",
    "    def __le__(self, other):\n",
    "        if isinstance(other, Q):\n",
    "            return self.x / self.y <= other.x / other.y\n",
    "        return self.x / self.y <= other\n",
    "    def __ge__(self, other):\n",
    "        if isinstance(other, Q):\n",
    "            return self.x / self.y >= other.x / other.y\n",
    "        return self.x / self.y >= other\n",
    "    def __add__(self, other):\n",
    "        if isinstance(other, Q):\n",
    "            return self.x / self.y + other.x / other.y\n",
    "        return self.x / self.y + other\n",
    "    \n",
    "    \n",
    "\n",
    "q12 = Q(1,2)\n",
    "print(q12)\n",
    "q24 = Q(2,4)\n",
    "print(q24)\n",
    "print(q12 == q24)\n",
    "\n",
    "q13 = Q(1, 3)\n",
    "print(q13)\n",
    "print(q12 <= q12)\n",
    "print(q13 <= q12)\n",
    "print(q12 <= q13)\n",
    "\n",
    "print(q12 + 666 >= q13 + 555)\n",
    "print(q12 >= 0.25)\n"
   ]
  },
  {
   "cell_type": "code",
   "execution_count": 6,
   "metadata": {},
   "outputs": [
    {
     "name": "stdout",
     "output_type": "stream",
     "text": [
      "1/2\n",
      "1/2\n",
      "True\n",
      "1/3\n",
      "True\n",
      "True\n",
      "False\n",
      "True\n",
      "True\n"
     ]
    }
   ],
   "source": [
    "from fractions import Fraction\n",
    "q12 = Fraction(1,2)\n",
    "print(q12)\n",
    "q24 = Fraction(2,4)\n",
    "print(q24)\n",
    "print(q12 == q24)\n",
    "\n",
    "q13 = Fraction(1, 3)\n",
    "print(q13)\n",
    "print(q12 <= q12)\n",
    "print(q13 <= q12)\n",
    "print(q12 <= q13)\n",
    "\n",
    "print(q12 + 666 >= q13 + 555)\n",
    "print(q12 >= 0.25)\n"
   ]
  },
  {
   "cell_type": "markdown",
   "metadata": {},
   "source": [
    "3) Usando un diccionario resuelva en tiempo lineal el ejercicio \"factor de redundancia\" (slide 10 presentación A de algoritmia). No asuma que la lista tiene números necesariamente (asuma que son hashables nada más(ver(*) abajo)); por ejemplo, los objetos primitivos de Python lo son. Asuma que las operaciones de acceso [] a diccionario son O(1) y son las de interés.\n",
    "(*)Nota: hashable significa acá que básicamente el objeto puede ser usado como  llave de un diccionario."
   ]
  },
  {
   "cell_type": "code",
   "execution_count": 6,
   "metadata": {},
   "outputs": [
    {
     "name": "stdout",
     "output_type": "stream",
     "text": [
      "0.36363636363636365\n"
     ]
    }
   ],
   "source": [
    "#factor de redundancia\n",
    "def redundancia(a:list):\n",
    "    cont = 1\n",
    "    b = list(range(len(a)))\n",
    "    b[0] = a[0]\n",
    "    for i in range(1, len(a)):\n",
    "        for j in range(0, cont):\n",
    "            if a[i] == b[j]:\n",
    "                break\n",
    "        if j == cont-1:\n",
    "            b[cont] = a[i]\n",
    "            cont += 1\n",
    "    return 1.0 - cont / len(a)\n",
    "\n",
    "a = [4,3,6,1,4,2,1,5,7,4,2]\n",
    "print(redundancia(a))       "
   ]
  },
  {
   "cell_type": "code",
   "execution_count": 13,
   "metadata": {},
   "outputs": [
    {
     "name": "stdout",
     "output_type": "stream",
     "text": [
      "0.36363636363636365\n"
     ]
    }
   ],
   "source": [
    "def redundancia(a:list):\n",
    "    b = {}\n",
    "    b[a[0]] = a[0]\n",
    "    for i in range(1, len(a)):\n",
    "        if not a[i] in b:\n",
    "            b[a[i]] = a[i]\n",
    "    return 1 - len(b) / len(a)\n",
    "\n",
    "a = [4,3,6,1,4,2,1,5,7,4,2]\n",
    "print(redundancia(a))  "
   ]
  },
  {
   "cell_type": "markdown",
   "metadata": {},
   "source": [
    "4) [Opcional] Lea y aprenda un poco sobre el diamond problem en C++ para mejorar su conocimiento de OOP en ese lenguaje. Este tema no será evaluado, es solo una sugerencia para su curiosidad."
   ]
  }
 ],
 "metadata": {
  "interpreter": {
   "hash": "722fc858008cf1041b4dd6c954dc939cb4c526adc9905b7bfe040fcc021795bf"
  },
  "kernelspec": {
   "display_name": "Python 3.9.7 ('base')",
   "language": "python",
   "name": "python3"
  },
  "language_info": {
   "codemirror_mode": {
    "name": "ipython",
    "version": 3
   },
   "file_extension": ".py",
   "mimetype": "text/x-python",
   "name": "python",
   "nbconvert_exporter": "python",
   "pygments_lexer": "ipython3",
   "version": "3.9.7"
  },
  "orig_nbformat": 4
 },
 "nbformat": 4,
 "nbformat_minor": 2
}

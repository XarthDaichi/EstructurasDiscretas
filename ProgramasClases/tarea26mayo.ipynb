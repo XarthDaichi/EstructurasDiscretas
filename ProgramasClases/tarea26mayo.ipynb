{
 "cells": [
  {
   "cell_type": "markdown",
   "metadata": {},
   "source": [
    "1) Haga los ejercicios 4-8 de la Práctica para examen. Donde dice DFS Haga también BFS. (se asume que Ud. hizo o hará los otros que son de temas distintos a hoy).\n",
    "Errata Pregunta 8: en vez de  lazos léase ciclos."
   ]
  },
  {
   "cell_type": "markdown",
   "metadata": {},
   "source": [
    "4. Usando Hierholzer encuentre un ciclo de Euler en exactamente 3 iteraciones usando el método\n",
    "visto en clase. No se acepta otro método. Seguimos el orden de los vértices primero luego el de los\n",
    "arcos si es necesario."
   ]
  },
  {
   "cell_type": "markdown",
   "metadata": {},
   "source": [
    "5. Para el grafo anterior dibuje el árbol de expansión (spanning tree) dfs empezando en 𝒂 y siguiendo\n",
    "el orden de los arcos. Anote el número de arco usado en el árbol final. ¿Cuál es el tiempo de corrida\n",
    "de un algoritmo dfs, en general? Use este ejemplo para justificar su respuesta"
   ]
  },
  {
   "cell_type": "markdown",
   "metadata": {},
   "source": [
    "6. Para el siguiente grafo calcule usando calcule usando Dijkstra el camino más barato entre a y\n",
    "g. Use el método utilizado en clase. No se acepta de otra forma."
   ]
  },
  {
   "cell_type": "markdown",
   "metadata": {},
   "source": [
    "7. Demuestre, dando un ejemplo lo más simple que le sea posible, que el algoritmo de Dijkstra no\n",
    "funciona cuando hay arcos negativos."
   ]
  },
  {
   "cell_type": "markdown",
   "metadata": {},
   "source": [
    "8. Demuestre por contradicción que un árbol libre no puede tener ciclos."
   ]
  },
  {
   "cell_type": "markdown",
   "metadata": {},
   "source": [
    "2) En general, prepárese para el lunes que haremos revisión de dudas y ejercicios. Si ese día no hubiese dudas de Uds. procederé a continuar con la materia nueva (que no entraría el jueves) pero en lo que sigue."
   ]
  },
  {
   "cell_type": "markdown",
   "metadata": {},
   "source": [
    "3) Válido hasta las 5pm. de hoy (puntual al minuto): aquellos que me envíen la solución al ejercicio de usar networkx y nx_draw para colorear el mapa de CR le sumaré un extra. Es totalmente opcional (extra): Si no lo envía no es ninguna mala nota, simplemente no recibe el extra. En realidad era un quiz que tenía para hoy que decidí no hacer por no tener tiempo. Estaba y estoy asumiendo ya lo habían trabajado, no que empiezan hoy desde cero."
   ]
  },
  {
   "cell_type": "code",
   "execution_count": null,
   "metadata": {},
   "outputs": [],
   "source": []
  }
 ],
 "metadata": {
  "language_info": {
   "name": "python"
  },
  "orig_nbformat": 4
 },
 "nbformat": 4,
 "nbformat_minor": 2
}

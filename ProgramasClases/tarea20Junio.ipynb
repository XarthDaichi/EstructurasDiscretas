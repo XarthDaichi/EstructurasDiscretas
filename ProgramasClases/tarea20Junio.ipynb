{
 "cells": [
  {
   "cell_type": "markdown",
   "metadata": {},
   "source": [
    "0)[Recomedado] Baje JFLAP (requiere jdk+8 instalado). Este fue un video que hice el año pasado sobre su uso (8minutos). \n",
    "\n",
    "1) [Peludillo] Sea V = {0,1} y S un RS cualquiera sobre V. Demuestre que V - S (diferencia de conjuntos) también es un RS sobre V\n",
    "\n",
    "2) Escriba un FA sobre V={0,1} que reconozca hileras w tales que la cantidad de unos en w es siemrpe múltiplo de 3. Por ejemplo \"001001011101\" cumple pues hay 6 unos que es mútiplo de 3. Recuerde que 0 es múltiplo  de 3."
   ]
  },
  {
   "cell_type": "code",
   "execution_count": null,
   "metadata": {},
   "outputs": [],
   "source": []
  }
 ],
 "metadata": {
  "language_info": {
   "name": "python"
  },
  "orig_nbformat": 4
 },
 "nbformat": 4,
 "nbformat_minor": 2
}

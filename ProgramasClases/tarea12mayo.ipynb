{
 "cells": [
  {
   "cell_type": "markdown",
   "metadata": {},
   "source": [
    "Pregunta 1) Sea A un conjunto y R, R1, R2, y R3 relaciones cualesquiera sobre A. Sea id_A la relación identidad sobre A, es decir, id_A = { (x,x) / x in A} Pruebe lo siguiente (se usa | para unión y & para intersección y ** exponente)\n"
   ]
  },
  {
   "cell_type": "markdown",
   "metadata": {},
   "source": [
    "1. R1 & (R2 | R3) = (R1 & R2) | (R1 & R3)\n",
    "$$R1 \\land (R2 \\lor R3 = (R1 \\land R2) \\lor (R1 \\land R3) \\texttt{  (1)}\\\\\n",
    "\n",
    "(R1 \\land R2) \\lor (R1 \\land R3) \\texttt{  (2)   -> Ley Lógica Distributiva}(1) \n",
    "$$"
   ]
  },
  {
   "cell_type": "markdown",
   "metadata": {},
   "source": [
    "2. R1 o Id_A = R1\n",
    "\n",
    "$$ (x,y) xR1y \\land yid_Ay \\\\\n",
    "    \\implies x \\to y \\land y \\to y \\\\\n",
    "    \\implies x \\to y \\\\\n",
    "    \\implies xR1y \\\\\n",
    "    \\therefore R1 \\space o \\space id_A = R1\n",
    "$$"
   ]
  },
  {
   "cell_type": "markdown",
   "metadata": {},
   "source": [
    "3. Id_A o R1 = R1\n",
    "$$ (x, y) \\space id_A \\space o \\space R1 \\\\\n",
    "    \\implies xid_Ax \\land xR1y \\\\\n",
    "    \\implies x\\to x \\land x\\to y \\\\ \n",
    "    \\implies x \\to y \\\\ \n",
    "    \\implies xR1y \\\\ \n",
    "    \\therefore id_A \\space o \\space R1 = R1\n",
    "$$"
   ]
  },
  {
   "cell_type": "markdown",
   "metadata": {},
   "source": [
    "4. (R\\*\\*-1)\\*\\*-1 = R (la inversa de la inversa es la original)\n",
    "$$ (R^{-1})^{-1} \\\\\n",
    "    = (\\frac{1}{R})^{-1} \\\\ \n",
    "    = R\n",
    "$$\n",
    "\n",
    "o también se puede hacer\n",
    "$$ (R^{-1})^{-1} \\\\\n",
    "    R^{-1 * -1} \\\\\n",
    "    R^{1} \\\\\n",
    "    R\n",
    "\n",
    "$$"
   ]
  },
  {
   "cell_type": "markdown",
   "metadata": {},
   "source": [
    "5. Construya un ejemplo en Python numpy de una relación R sobre A = {a,b,c,d} tal que R\\*\\*3 tenga un 3 y un 4 en dos entradas. ¿Qué significa un número mayor que 1 en una matriz de R\\*\\*n, en general? \n"
   ]
  },
  {
   "cell_type": "code",
   "execution_count": null,
   "metadata": {},
   "outputs": [],
   "source": [
    "import numpy\n"
   ]
  },
  {
   "cell_type": "markdown",
   "metadata": {},
   "source": [
    "6. Dé un ejemplo de una R1 y una R2 tales que R1 o R2 != R2 o R1"
   ]
  },
  {
   "cell_type": "markdown",
   "metadata": {},
   "source": [
    "Pregunta 2) Demuestre que el mapa de CR se puede colorear con tres colores pero no con menos"
   ]
  }
 ],
 "metadata": {
  "interpreter": {
   "hash": "722fc858008cf1041b4dd6c954dc939cb4c526adc9905b7bfe040fcc021795bf"
  },
  "kernelspec": {
   "display_name": "Python 3.9.7 ('base')",
   "language": "python",
   "name": "python3"
  },
  "language_info": {
   "name": "python",
   "version": "3.9.7"
  },
  "orig_nbformat": 4
 },
 "nbformat": 4,
 "nbformat_minor": 2
}

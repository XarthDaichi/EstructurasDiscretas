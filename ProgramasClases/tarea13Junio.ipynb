{
 "cells": [
  {
   "cell_type": "markdown",
   "metadata": {},
   "source": [
    "0) Haga los ejercicios del pasado 9 de junio.\n",
    "\n",
    "1) Construya paso a paso los AVL que se deriva de insertar los elementos leidos de izquierda a derecha de la lista [10, 40, 70, 50, 90, 80, 130, 150, 110]. Indique en cada caso que apliaque la rotación siendo usada y marque en el árbol a z, y, x\n",
    "\n",
    "2) Estudie la nueva práctica (02-EIF203_Practica_BinarySearchTree_I_2022) sobre BST en el sitio. Esta extiende BTree con BST. Por ende requiere haber estudiado BTree antes.\n",
    "Añada un método a la clase BST pred(self, node) que retorne el nodo  que precede a node en  el orden del BST. Es decir, aquel nodo que iría antes de node en un recorrido 'in-order'. Sin embargo, no debe enumerar todos los nodos del árbol en su solución. Es decir,  si su árbol está balanceado, toma tiempo O(log(n)), donde n es la cantidad de nodos. Retorna None si node es el menor del árbol. Asuma que node es un BST.BNode."
   ]
  },
  {
   "cell_type": "code",
   "execution_count": null,
   "metadata": {},
   "outputs": [],
   "source": []
  }
 ],
 "metadata": {
  "language_info": {
   "name": "python"
  },
  "orig_nbformat": 4
 },
 "nbformat": 4,
 "nbformat_minor": 2
}

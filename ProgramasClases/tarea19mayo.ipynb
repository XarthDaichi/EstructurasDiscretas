{
 "cells": [
  {
   "cell_type": "markdown",
   "metadata": {},
   "source": [
    "0) Haga ejercicios de la Práctica IV en el sitio"
   ]
  },
  {
   "cell_type": "markdown",
   "metadata": {},
   "source": [
    "1. Sea R una relación sobre A que es simétrica. Pruebe que $\\texttt{R}^2$ es también simétrica sobre A."
   ]
  },
  {
   "cell_type": "markdown",
   "metadata": {},
   "source": [
    "2. Encuentre el error en la siguiente \"prueba\" que \\underline{incorrectamente} demuestra que cualquier relación R sobre A, que sea transitiva y simétrica tiene que ser reflexiva. Dibuje un contraejemplo que falsifique la afirmación.\n",
    "\n",
    "\"Prueba\": Hay que probar que $\\forall x \\in A:xRx$\n",
    "\n",
    "Sea x cualquier elemento en A. Vamos a probar que xRx. Sea y en A tal que xRy. La simetría de R implica que yRx. Así obtenemos que xRy y yRx. Por la transitividad de R se sigue que xRx. QED."
   ]
  },
  {
   "cell_type": "markdown",
   "metadata": {},
   "source": [
    "3.\n",
    "a) Escriba en Python un algoritmo check_antisymmetric(MR, A) que reciba la matriz MR de una relación R sobre A y retorne [] si R es antisimétrica. Retorna la lista de todos los pares (x, y) en $\\texttt{A}^2$ que incumplen con la antisimétrica en caso contrario. Asuma que A es una lista y que las filas y columnas de MR están ordenadas según A. Asuma que MR es una matrix de Numpy.\n",
    "\n",
    "b) Haga lo mimso, pero convierta MR en un diagrafo de networkx y usando dicho digrafo tenga la misma funcionalidad anterior."
   ]
  },
  {
   "cell_type": "code",
   "execution_count": 34,
   "metadata": {},
   "outputs": [
    {
     "name": "stdout",
     "output_type": "stream",
     "text": [
      "[]\n"
     ]
    }
   ],
   "source": [
    "import networkx as nx\n",
    "import matplotlib.pyplot as plt\n",
    "import numpy as np\n",
    "\n",
    "\n",
    "#xRy y yRx sii x = y\n",
    "def check_antisymmetric(MR, A):\n",
    "    n = len(A)\n",
    "    failedList = []\n",
    "    for i in range(n**2):\n",
    "        if i // n != i%n:\n",
    "            if MR.A1[i] == 1:\n",
    "                if MR.A1[i] == MR.T.A1[i]:\n",
    "                    failedList += [((i//n)+1,(i%n)+1)]\n",
    "    return failedList\n",
    "            \n",
    "    \n",
    "MR = np.matrix([[1,1,0], [0,1,0],[0,0,1]])\n",
    "A = ['a','b','c']\n",
    "print(check_antisymmetric(MR, A))\n",
    "    "
   ]
  },
  {
   "cell_type": "code",
   "execution_count": 68,
   "metadata": {},
   "outputs": [
    {
     "data": {
      "image/png": "[encoded data removed]",
      "text/plain": [
       "<Figure size 432x288 with 1 Axes>"
      ]
     },
     "metadata": {},
     "output_type": "display_data"
    },
    {
     "name": "stdout",
     "output_type": "stream",
     "text": [
      "[('a', 'b'), ('b', 'a')]\n"
     ]
    }
   ],
   "source": [
    "import networkx as nx\n",
    "import matplotlib.pyplot as plt\n",
    "import numpy as np\n",
    "\n",
    "def check_antisymmetric(MR, A):\n",
    "    n = len(A)\n",
    "    failedList = []\n",
    "    digraph = nx.DiGraph()\n",
    "    digraph.add_nodes_from(A)\n",
    "    for i in range(n**2):\n",
    "        if MR.A1[i] == 1:\n",
    "            digraph.add_edge(A[i//n], A[i%n])\n",
    "    nx.draw(digraph, with_labels=True)\n",
    "    plt.show()\n",
    "    \n",
    "    for i in digraph.edges:\n",
    "        j = i[0]\n",
    "        k = i[1]\n",
    "        if digraph.has_edge(k, j) and j != k:\n",
    "            failedList += [(j, k)]\n",
    "    \n",
    "    return failedList\n",
    "\n",
    "MR = np.matrix([[1,1,1], [1,1,1],[0,0,1]])\n",
    "A = ['a','b','c']\n",
    "print(check_antisymmetric(MR, A))\n"
   ]
  },
  {
   "cell_type": "markdown",
   "metadata": {},
   "source": [
    "1) Considere ejercicio 1) del pasado 16/5 sobre el mapa de provincias y networkx. Codifique a mano en formato graphml dicho grafo. Para esto, copie y adapte alguno de los archivos del demo_data. Estudie nx_draw que se le entregó. Usando lo que devuelve 'greedy_color', integre adecuadamente con nx_draw y logre una visualización del grafo de provincias coloreado."
   ]
  },
  {
   "cell_type": "code",
   "execution_count": null,
   "metadata": {},
   "outputs": [],
   "source": [
    "import networkx as nx\n",
    "\n",
    "A = 'Alajuela'\n",
    "H = 'Heredia'\n",
    "SJ = 'San Jose'\n",
    "G = 'Guanacaste'\n",
    "P = 'Puntarenas'\n",
    "C = 'Cartago'\n",
    "L = 'Limon'\n",
    "\n",
    "V = [A, H, SJ, C, P, L, G]\n",
    "E = [(G,P), (G,A), (A,H), (A, SJ), (A, P), (H, SJ), (H, L), (SJ, P), (SJ, C), (SJ, L), (P, L), (C, L)]\n",
    "\n",
    "costaRicaG = nx.Graph(E)\n",
    "nx.draw(costaRicaG, with_labels=True)\n",
    "plt.show()\n",
    "\n",
    "\n",
    "costaRicaGColored = nx.coloring.greedy_color(costaRicaG, strategy=\"largest_first\")\n",
    "\n",
    "print(costaRicaGColored)"
   ]
  }
 ],
 "metadata": {
  "interpreter": {
   "hash": "722fc858008cf1041b4dd6c954dc939cb4c526adc9905b7bfe040fcc021795bf"
  },
  "kernelspec": {
   "display_name": "Python 3.9.7 ('base')",
   "language": "python",
   "name": "python3"
  },
  "language_info": {
   "codemirror_mode": {
    "name": "ipython",
    "version": 3
   },
   "file_extension": ".py",
   "mimetype": "text/x-python",
   "name": "python",
   "nbconvert_exporter": "python",
   "pygments_lexer": "ipython3",
   "version": "3.9.7"
  },
  "orig_nbformat": 4
 },
 "nbformat": 4,
 "nbformat_minor": 2
}

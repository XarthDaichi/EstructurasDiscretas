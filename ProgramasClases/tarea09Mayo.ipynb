{
 "cells": [
  {
   "cell_type": "markdown",
   "metadata": {},
   "source": [
    "0) Sea A un conjunto no vacío\n",
    "1. ¿Cuál es la relación de equivalencia no vacía más pequeña posible que se pueda construir sobre A?\n",
    "\n",
    "La relación de equivalencia más pequeña es un elemento a, si a es reflexiva, entonces aRa = aRa es simétrico y transitivo si aRa y aRa entonces aRa.\n",
    "\n",
    "2. ¿Cuál es la relación de equivalencia más grande que se pueda construir sobre A?\n",
    "\n",
    "La relación de equivalencia más grande es infinita y conjunto A tiene infinitos elementos y cada elemento está conectado simétricamente a todos y reflexivo entonces sería equivalente, porque también serían transitivos porque todos estarían relacionados."
   ]
  },
  {
   "cell_type": "markdown",
   "metadata": {},
   "source": [
    "1) Sean R1 y R2 dos relaciones sobre un conjunto A. Dé una prueba de cada una o caso contrario un contraejemplo que la refute:\n",
    "1. Si R1 y R2 son reflexivas sobre A entonces R1 U R2 es reflexiva sobre A(U es la unión)\n",
    "\n",
    "xR1x = (x,x)R1\n",
    "\n",
    "xR2x = (x,x)R2\n",
    "\n",
    "R1 U R2 = {(x,x)\\ xR1x $\\lor$ xR2x}\n",
    "\n",
    "(x,x)R1UR2 = (x,x)R1 $\\lor$ (x,x)R2\n",
    "\n",
    "Los dos son ciertos entonces es reflexiva.\n",
    "\n",
    "2. Si R1 y R2 son simétricas sobre A entonces R1 U R2 es simétrica sobre A\n",
    "\n",
    "R1 $\\land$ R2 son simétricas\n",
    "\n",
    "(x,y)R1 = xR1y $\\land$ yR1x\n",
    "\n",
    "(x,y)R2 = xR2y $\\land$ yR2x\n",
    "\n",
    "R1 U R2 = {(x,y) \\ (x,y)R1 $\\lor$ (x,y)R2}\n",
    "\n",
    "(x,y)R1 U R2 = (x,y)R1 $\\lor$ (x,y)R2\n",
    "\n",
    "R1 y R2 son simétricas entonces las dos son ciertas y entonces R1UR2 es cierto.\n",
    "\n",
    "3. Si R1 y R2 son transitivas sobre A entonces R1 U R2 es transitiva sobre A\n",
    "\n",
    "(x,y,z)R1 = xR1y $\\land$ yR1z $\\to$ xR1z\n",
    "\n",
    "(x,y,z)R2 = xR2y $\\land$ yR2z $\\to$ xR2z\n",
    "\n",
    "R1UR2 = {(x,y,z)\\ R1 $\\lor$ R2}\n",
    "\n",
    "(x,y,z)R1UR2 = (x,y,z)R1 $\\lor$ (x,y,z)R2\n",
    "\n",
    "R1 y R2 son transitivas entonces R1UR2 es cierto y es transitiva."
   ]
  },
  {
   "cell_type": "markdown",
   "metadata": {},
   "source": [
    "2) Sea A = {a,b,c,d,e,f} y R una relación sobre A así: R = {(a,a),(b,c),(c,b),(c,e)}.\n",
    "\n",
    "Sea Relfex(R) la cerradura reflexiva de R, Sim(R) la simétrica y trans(R) la transitiva.\n",
    "\n",
    "Calcula cada una por aparte en secuencia, una tras la otra sin perder la cerradura previa.\n",
    "\n",
    "En cada caso muestre la relación, la matriz y el digrafo respectivo.\n",
    "\n",
    "¿Cuáles son las clases de equivalencia de la relación final resultante?"
   ]
  },
  {
   "cell_type": "code",
   "execution_count": null,
   "metadata": {},
   "outputs": [],
   "source": []
  }
 ],
 "metadata": {
  "language_info": {
   "name": "python"
  },
  "orig_nbformat": 4
 },
 "nbformat": 4,
 "nbformat_minor": 2
}

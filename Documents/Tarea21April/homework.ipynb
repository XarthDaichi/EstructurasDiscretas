{
 "cells": [
  {
   "cell_type": "markdown",
   "metadata": {},
   "source": [
    "Ejercicio:\n",
    "$$f_n = 6f_{n-1} - 9f_{n-2} \\\\\n",
    "f_0 = 1 \\\\\n",
    "f_1 = 6 \\\\$$ \n",
    "Polinomio característico:\n",
    "$$x^2 -6x + 9 \\\\ $$\n",
    "Raíces: \n",
    "$$(x-3)^2 = 0 \\\\ \n",
    "x = 3 \\\\ $$\n",
    "Solución de $f_n$ :\n",
    "\n",
    "$$\n",
    "f_n = \\alpha 3^n + \\beta n3^n\n",
    "$$\n",
    "\n",
    "Usando los casos base:  \n",
    "\n",
    "$$\n",
    "f_0 = \\alpha 3^0 + \\beta 0*3^0 = 1 \\\\\n",
    "f_0 = \\alpha = 1 \\\\\n",
    "\n",
    "f_1 = \\alpha 3^1 + \\beta 1*3^1 = 6 \\\\\n",
    "f_1 = \\alpha 3 + \\beta 3 = 6 \\\\\n",
    "f_1 = 1 * 3 + \\beta 3 = 6 \\\\ \n",
    "f_1 = \\beta 3 = 3 \\\\\n",
    "f_1 = \\beta = 1\n",
    "$$\n",
    "Entonces:\n",
    "$$\n",
    "f_n = 3^n + n*3^n \\\\\n",
    "f_n = 3^n (1+n)\n",
    "$$"
   ]
  },
  {
   "cell_type": "code",
   "execution_count": 34,
   "metadata": {},
   "outputs": [
    {
     "data": {
      "image/png": "[encoded data removed]",
      "text/plain": [
       "<Figure size 432x288 with 1 Axes>"
      ]
     },
     "metadata": {
      "needs_background": "light"
     },
     "output_type": "display_data"
    }
   ],
   "source": [
    "import matplotlib.pyplot  as plt\n",
    "import numpy as np\n",
    "\n",
    "x = np.linspace(0, 2, 100)\n",
    "\n",
    "plt.plot(x,3**x, color=\"blue\", label=\"3^n\") \n",
    "plt.plot(x,x, color=\"red\", label=\"n\")\n",
    "plt.legend()\n",
    "plt.show()"
   ]
  },
  {
   "cell_type": "markdown",
   "metadata": {},
   "source": [
    "Como muestra la gráfica de arriba $3^n$ es el que crece más rápido, entonces O($3^n(1+n)$) ~ O($3^n$)"
   ]
  },
  {
   "cell_type": "markdown",
   "metadata": {},
   "source": [
    "**Ejercicio 13 de análisis de algoritmos de la práctica del primer examen**\n",
    "\n",
    "¿Cuál es el tiempo de corrida de la siguiente función *f*? Nos interesa analizar prints. Asuma n es un entero no negativo."
   ]
  },
  {
   "cell_type": "code",
   "execution_count": 6,
   "metadata": {},
   "outputs": [
    {
     "name": "stdout",
     "output_type": "stream",
     "text": [
      "Viva el Team!!\n",
      "Viva el Team!!\n",
      "Viva el Team!!\n",
      "Viva el Team!!\n",
      "Viva el Team!!\n",
      "Viva el Team!!\n",
      "None\n"
     ]
    }
   ],
   "source": [
    "def f(n):\n",
    "    if n == 0 : return\n",
    "    if n == 1 :\n",
    "        print(\"Viva el Team!!\")\n",
    "        return \n",
    "    f(n-1)\n",
    "    for i in range(1,6):\n",
    "        f(n-2)\n",
    "\n",
    "print(f(3))\n",
    "# print(f(10))"
   ]
  },
  {
   "cell_type": "markdown",
   "metadata": {},
   "source": [
    "Paso 1:\n",
    "    Tamaño n = n\n",
    "  \n",
    "Paso 2:\n",
    "    Operación de interés es print()\n",
    "\n",
    "Paso 3:\n",
    "$$T_0 = 0 \\\\\n",
    "T_1 = 1 \\\\\n",
    "T_n = T_{n-1} + 5T_{n-2}$$\n",
    "\n",
    "Paso 4: (Usando HLCC(2))\n",
    "\n",
    "$$\n",
    "x^2 - x -5 \\\\\n",
    "\n",
    "r_1 = \\frac{1 + \\sqrt{21}}{2} \\\\\n",
    "r_2 = \\frac{1 - \\sqrt{21}}{2} \\\\\n",
    "\n",
    "f_n = \\alpha r_1^n + \\beta r_2^n \\\\\n",
    "\n",
    "\\alpha = \\frac{1}{\\sqrt{21}} \\\\\n",
    "\n",
    "\\beta = \\frac{-1}{\\sqrt{21}} \\\\\n",
    "\n",
    "f_n = \\frac{1}{\\sqrt{21}} * (\\frac{1+\\sqrt{21}}{2})^n - \\frac{1}{\\sqrt{21}} * (\\frac{1-\\sqrt{21}}{2})^n \\\\$$\n",
    "\n",
    "Entonces:\n",
    "\n",
    "O($(\\frac{1+\\sqrt{21}}{2})^n -(\\frac{1-\\sqrt{21}}{2})^n$) Es una O($a^n$)\n",
    "\n"
   ]
  },
  {
   "cell_type": "code",
   "execution_count": 32,
   "metadata": {},
   "outputs": [
    {
     "data": {
      "text/plain": [
       "<matplotlib.legend.Legend at 0x7fadd32ee0d0>"
      ]
     },
     "execution_count": 32,
     "metadata": {},
     "output_type": "execute_result"
    },
    {
     "data": {
      "image/png": "[encoded data removed]",
      "text/plain": [
       "<Figure size 432x288 with 1 Axes>"
      ]
     },
     "metadata": {
      "needs_background": "light"
     },
     "output_type": "display_data"
    }
   ],
   "source": [
    "import matplotlib.pyplot  as plt\n",
    "import math as m\n",
    "\n",
    "# Paso 6:\n",
    "def f_instrumentado(n):\n",
    "    operaciones = 0\n",
    "    if n == 0 : return operaciones\n",
    "    if n == 1 :\n",
    "        # print(\"Viva el Team!!\")\n",
    "        operaciones += 1\n",
    "        return operaciones\n",
    "    operaciones += f_instrumentado(n-1)\n",
    "    for i in range(1,6):\n",
    "        operaciones += f_instrumentado(n-2)\n",
    "    return operaciones\n",
    "\n",
    "def f_instrumentado_test(start, end, inc):\n",
    "    axis = []\n",
    "    axis.append([])\n",
    "    axis.append([])\n",
    "    axis.append([])\n",
    "    for n in range(start, end, inc):\n",
    "        axis[0].append(n)\n",
    "        axis[1].append(f_instrumentado(n))\n",
    "        axis[2].append((1/m.sqrt(21))*((1+m.sqrt(21))/2)**n - (1/m.sqrt(21))*((1-m.sqrt(21))/2)**n)\n",
    "    return axis\n",
    "\n",
    "a = f_instrumentado_test(1, 20, 1)\n",
    "plt.plot(a[0], a[1], color=\"blue\", linewidth=\"3\", label=\"implementado\")\n",
    "plt.plot(a[0], a[2], linestyle=\"dashed\", color=\"orange\", label=\"teórico\")\n",
    "plt.xlabel('Time')\n",
    "plt.ylabel(\"N\")\n",
    "plt.title(\"Análisis de Tiempo de f\")\n",
    "plt.legend()\n"
   ]
  },
  {
   "cell_type": "markdown",
   "metadata": {},
   "source": [
    "**Relaciones de Recurrencia**\n",
    "\n",
    "1a) $S_n = -S_{n-1}; S_0 = -1$\n",
    "Usando HLCC(2)\n",
    "\n",
    "$$\n",
    "S_n = x^2 --x \\\\\n",
    "S_n = x^2 + x \\\\\n",
    "\n",
    "r_1 = 0 \\\\\n",
    "r_2 = -1 \\\\\n",
    "\n",
    "S_n = \\alpha 0^n + \\beta (-1)^n \\\\\n",
    "S_0 = \\alpha + \\beta = -1 \\\\\n",
    "$$\n",
    "\n",
    "Como $S_1 = -S_0$ y $S_0 = -1$ entonces $S_1 = 1$\n",
    "\n",
    "$$\n",
    "S_1 = \\alpha 0^1 + -\\beta = 1 \\\\\n",
    "S_1 = -\\beta = 1 \\\\\n",
    "\\beta = -1 \\\\\n",
    "\n",
    "\\alpha + \\beta = -1 \\\\\n",
    "\\alpha -1 = -1 \\\\\n",
    "\\alpha = 0 \\\\\n",
    "\n",
    "S_n -(-1)^n \\\\\n",
    "\n",
    "O((-1)^n) \\\\\n",
    "$$\n",
    "\n",
    "\n",
    "3a) $a_n = 5a_{n-1} - 6a{n-2}; a_0 = 1; a_1 = 0$\n",
    "\n",
    "$$\n",
    "x^2 -5x + 6 => (x-2)(x-3) = 0 \\\\\n",
    "\n",
    "r_1 = 2\n",
    "r_2 = 3\n",
    "\n",
    "a_n = \\alpha 2^n + \\beta 3^n \\\\\n",
    "a_0 = \\alpha + \\beta = 1\\\\\n",
    "\\alpha = 1 - \\beta\\\\\n",
    "a_1 = 2\\alpha + 3\\beta = 0\\\\\n",
    "a_1 = 2- 2\\beta + 3\\beta = 0\\\\\n",
    "a_1 = 2 + \\beta = 0\\\\\n",
    "a_1 = \\beta = -2\\\\\n",
    "\n",
    "\\alpha = 1 -- 2\\\\\n",
    "\\alpha = 3\\\\\n",
    "\n",
    "a_n = 3 * 2^n - 2 * 3^n\\\\\n",
    "$$\n",
    "\n",
    "\n",
    "3b) $a_n = 4a_{n-1} - 4a_{n-2}; a_0 = 6; a_1 = 8$\n",
    "\n",
    "$$\n",
    "x^2 -4 + 4 => (x-2)^2 = 0\\\\\n",
    "\n",
    "r = 2\\\\\n",
    "\n",
    "a_n = \\alpha 2^n + \\beta n 2^n\\\\\n",
    "a_0 = \\alpha = 6\\\\\n",
    "a_1 = 6 * 2 + 2\\beta = 8\\\\\n",
    "a_1 = 2\\beta = -4\\\\\n",
    "a_1 = \\beta = -2\\\\\n",
    "\n",
    "a_ n = 6 * 2^n - 2n * 2^n\\\\\n",
    "$$\n",
    "\n",
    "3c) $a_n = a_{n-2} /4; a_0 = 1; a_1 = 0$\n",
    "\n",
    "$$\n",
    "x^2 - 1/4 => (x - 1/2)(x+1/2) = 0\\\\\n",
    "\n",
    "a_n = \\alpha(1/2)^n + \\beta (-1/2)^n\\\\\n",
    "\n",
    "a_0 = \\alpha + \\beta = 1\\\\\n",
    "\n",
    "a_1 = (1/2)\\alpha - (1/2)\\beta = 0\\\\\n",
    "\\alpha = \\beta\\\\\n",
    "\n",
    "a_0 = 2\\alpha = 1\\\\\n",
    "\n",
    "\\alpha = \\beta = 1/2\\\\\n",
    "\n",
    "a_n = (1/2)^{n+1} + (1/2) * (-1/2)^n\\\\\n",
    "$$\n",
    "\n",
    "\n",
    "\n",
    "Ejemplo de HLCC(2) que quede O(n):\n",
    "\n",
    "$$\n",
    "a_n = 2a_{n-1} -a_{n-2}; a_0 = 1; a_1 = 2\\\\\n",
    "\n",
    "x^2 + -2n + 1 => (x-1)^2 = 0\\\\\n",
    "\n",
    "r = 1\\\\\n",
    "\n",
    "a_n = \\alpha 1^n + \\beta n 1^n \\\\\n",
    "\n",
    "a_0 = \\alpha = 1 \\\\\n",
    "a_1 = \\alpha + \\beta = 2 \\\\\n",
    "a_1 = 1 + \\beta = 2 \\\\\n",
    "a_1 = \\beta = 1 \\\\\n",
    "\n",
    "a_n = 1^{n+1} + n 1^n \\\\\n",
    "a_n = 1 + n $$\n",
    "O(n) ~ O(n)\n",
    "\n"
   ]
  }
 ],
 "metadata": {
  "interpreter": {
   "hash": "916dbcbb3f70747c44a77c7bcd40155683ae19c65e1c03b4aa3499c5328201f1"
  },
  "kernelspec": {
   "display_name": "Python 3.8.10 64-bit",
   "language": "python",
   "name": "python3"
  },
  "language_info": {
   "codemirror_mode": {
    "name": "ipython",
    "version": 3
   },
   "file_extension": ".py",
   "mimetype": "text/x-python",
   "name": "python",
   "nbconvert_exporter": "python",
   "pygments_lexer": "ipython3",
   "version": "3.9.7"
  },
  "orig_nbformat": 4
 },
 "nbformat": 4,
 "nbformat_minor": 2
}
